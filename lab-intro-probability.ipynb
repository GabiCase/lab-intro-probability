{
 "cells": [
  {
   "cell_type": "markdown",
   "metadata": {},
   "source": [
    "# Lab | Intro to Probability"
   ]
  },
  {
   "cell_type": "markdown",
   "metadata": {},
   "source": [
    "**Objective**\n",
    "\n",
    "Welcome to this Intro to Probability lab, where we explore decision-making scenarios through the lens of probability and strategic analysis. In the business world, making informed decisions is crucial, especially when faced with uncertainties. This lab focuses on scenarios where probabilistic outcomes play a significant role in shaping strategies and outcomes. Students will engage in exercises that require assessing and choosing optimal paths based on data-driven insights. The goal is to enhance your skills by applying probability concepts to solve real-world problems."
   ]
  },
  {
   "cell_type": "markdown",
   "metadata": {},
   "source": [
    "**Challenge 1**"
   ]
  },
  {
   "cell_type": "code",
   "execution_count": 6,
   "metadata": {},
   "outputs": [],
   "source": [
    "import scipy.stats as stats\n",
    "from scipy.stats import poisson\n",
    "from scipy.stats import expon\n",
    "import math"
   ]
  },
  {
   "cell_type": "markdown",
   "metadata": {},
   "source": [
    "#### Ironhack Airlines \n",
    "\n",
    "Often Airlines sell more tickets than they have seats available, this is called overbooking. Consider the following:\n",
    "- A plane has 450 seats. \n",
    "- Based on historical data we conclude that each individual passenger has a 3% chance of missing it's flight. \n",
    "\n",
    "If the Ironhack Airlines routinely sells 460 tickets, what is the chance that they have a seats for all passenger?"
   ]
  },
  {
   "cell_type": "code",
   "execution_count": 8,
   "metadata": {},
   "outputs": [
    {
     "name": "stdout",
     "output_type": "stream",
     "text": [
      "La probabilidad de que haya asientos para todos los pasajeros es: 0.88, 88% de probabilidad de que 450 o menos pasajeros se presenten\n"
     ]
    }
   ],
   "source": [
    "#code here\n",
    "\n",
    "n = 460 \n",
    "k = 450 \n",
    "p_no_show = 0.03 \n",
    "\n",
    "# Probabilidad de que un pasajero se presente\n",
    "p_show = 1 - p_no_show\n",
    "\n",
    "# Calcular la probabilidad acumulativa\n",
    "probabilidad = stats.binom.cdf(k, n, p_show)\n",
    "\n",
    "\n",
    "print(f\"La probabilidad de que haya asientos para todos los pasajeros es: {probabilidad:.2f}, {(probabilidad*100):.0f}% de probabilidad de que 450 o menos pasajeros se presenten\")"
   ]
  },
  {
   "cell_type": "markdown",
   "metadata": {},
   "source": [
    "**Challenge 2**"
   ]
  },
  {
   "cell_type": "markdown",
   "metadata": {},
   "source": [
    "#### Ironhack Call Center "
   ]
  },
  {
   "cell_type": "markdown",
   "metadata": {},
   "source": [
    "Suppose a customer service representative at a call center is handling customer complaints. Consider the following:\n",
    "- The probability of successfully resolving a customer complaint on the first attempt is 0.3. \n",
    "\n",
    "What is the probability that the representative needs to make at least three attempts before successfully resolving a customer complaint?"
   ]
  },
  {
   "cell_type": "code",
   "execution_count": 15,
   "metadata": {},
   "outputs": [
    {
     "data": {
      "text/plain": [
       "0.48999999999999994"
      ]
     },
     "execution_count": 15,
     "metadata": {},
     "output_type": "execute_result"
    }
   ],
   "source": [
    "#code here\n",
    "\n",
    "p = 0.3 #exito\n",
    "q = 1 - p #fracaso (0.7)\n",
    "k = 3 #intentos\n",
    "\n",
    "probability_at_least_3_attempts = q ** (k - 1) # 0.7 elevado a 2\n",
    "\n",
    "probability_at_least_3_attempts\n"
   ]
  },
  {
   "cell_type": "code",
   "execution_count": 14,
   "metadata": {},
   "outputs": [
    {
     "name": "stdout",
     "output_type": "stream",
     "text": [
      "0.657\n"
     ]
    }
   ],
   "source": [
    "#probabilidad de que al 3 intento ya esté resuelto\n",
    "# Probabilidad de éxito en el primer intento\n",
    "p = 0.3\n",
    "\n",
    "# Probabilidad de fracaso\n",
    "q = 1 - p #(0.7)\n",
    "\n",
    "# Número de intentos\n",
    "k = 3\n",
    "\n",
    "# Probabilidad de que esté solucionada al 3 intento\n",
    "probabilidad_resolucion_al_tercer_intento = 1 - (q ** k) # 1-(0.7 elevado a 3)\n",
    "\n",
    "print(probabilidad_resolucion_al_tercer_intento)"
   ]
  },
  {
   "cell_type": "markdown",
   "metadata": {},
   "source": [
    "**Challenge 3**"
   ]
  },
  {
   "cell_type": "markdown",
   "metadata": {},
   "source": [
    "#### Ironhack Website"
   ]
  },
  {
   "cell_type": "markdown",
   "metadata": {},
   "source": [
    "Consider a scenario related to Ironhack website traffic. Where:\n",
    "- our website takes on average 500 visits per hour.\n",
    "- the website's server is designed to handle up to 550 vists per hour.\n",
    "\n",
    "\n",
    "What is the probability of the website server being overwhelmed?"
   ]
  },
  {
   "cell_type": "code",
   "execution_count": 2,
   "metadata": {},
   "outputs": [
    {
     "name": "stdout",
     "output_type": "stream",
     "text": [
      "La probabilidad de que el servidor se vea sobrecargado es: 0.0129\n"
     ]
    }
   ],
   "source": [
    "#code here\n",
    "# Parámetros\n",
    "lambda_ = 500         # visitas por hora\n",
    "max_visits = 550      # límite \n",
    "\n",
    "# Calcular P(X <= 550)\n",
    "prob_up_to_550 = poisson.cdf(max_visits, lambda_)\n",
    "\n",
    "# Calcular P(X > 550)\n",
    "prob_overwhelmed = 1 - prob_up_to_550\n",
    "\n",
    "print(f'La probabilidad de que el servidor se vea sobrecargado es: {prob_overwhelmed:.4f}')"
   ]
  },
  {
   "cell_type": "markdown",
   "metadata": {},
   "source": [
    "What is the probability of being overwhelmed at some point during a day? (consider 24hours)"
   ]
  },
  {
   "cell_type": "code",
   "execution_count": 3,
   "metadata": {},
   "outputs": [
    {
     "name": "stdout",
     "output_type": "stream",
     "text": [
      "La probabilidad de que el servidor se vea sobrecargado al menos una vez en 24 horas es: 0.2677\n"
     ]
    }
   ],
   "source": [
    "lambda_ = 500  # visitas promedio por hora\n",
    "max_visits = 550  # límite del servidor\n",
    "horas = 24  # periodo de 24 horas\n",
    "\n",
    "# Calcular P(X > 550) para una hora\n",
    "prob_up_to_550 = poisson.cdf(max_visits, lambda_)\n",
    "prob_overwhelmed_per_hour = 1 - prob_up_to_550\n",
    "\n",
    "# Calcular la probabilidad de no sobrecarga en ninguna hora en 24 horas\n",
    "prob_no_overwhelm_24h = (1 - prob_overwhelmed_per_hour) ** horas\n",
    "\n",
    "# Calcular la probabilidad de sobrecarga al menos una vez en 24 horas\n",
    "prob_overwhelmed_24h = 1 - prob_no_overwhelm_24h\n",
    "\n",
    "print(f'La probabilidad de que el servidor se vea sobrecargado al menos una vez en 24 horas es: {prob_overwhelmed_24h:.4f}')"
   ]
  },
  {
   "cell_type": "markdown",
   "metadata": {},
   "source": [
    "**Challenge 4**"
   ]
  },
  {
   "cell_type": "markdown",
   "metadata": {},
   "source": [
    "#### Ironhack Helpdesk"
   ]
  },
  {
   "cell_type": "markdown",
   "metadata": {},
   "source": [
    "Consider a scenario related to the time between arrivals of customers at a service desk.\n",
    "\n",
    "On average, a customers arrives every 10minutes.\n",
    "\n",
    "What is the probability that the next customer will arrive within the next 5 minutes?"
   ]
  },
  {
   "cell_type": "code",
   "execution_count": 5,
   "metadata": {},
   "outputs": [
    {
     "name": "stdout",
     "output_type": "stream",
     "text": [
      "La probabilidad de que el próximo cliente llegue en los próximos 5 minutos es: 0.3935\n"
     ]
    }
   ],
   "source": [
    "# Parámetro de la distribución exponencial\n",
    "mean_arrival_time = 10  # en minutos\n",
    "time_within = 5  # minutos\n",
    "\n",
    "# Creamos el objeto exponencial con la media dada\n",
    "expon_dist = expon(scale=mean_arrival_time)\n",
    "\n",
    "# Calculamos la probabilidad de que el próximo cliente llegue dentro de los 5 minutos\n",
    "probability_within_5_minutes = expon_dist.cdf(time_within)\n",
    "\n",
    "print(f\"La probabilidad de que el próximo cliente llegue en los próximos 5 minutos es: {probability_within_5_minutes:.4f}\")"
   ]
  },
  {
   "cell_type": "code",
   "execution_count": 7,
   "metadata": {},
   "outputs": [
    {
     "name": "stdout",
     "output_type": "stream",
     "text": [
      "La probabilidad de que el próximo cliente llegue en los próximos 5 minutos es: 0.3935\n"
     ]
    }
   ],
   "source": [
    "mean_arrival_time = 10  # en minutos\n",
    "time_within = 5  # en minutos\n",
    "\n",
    "# La tasa (lambda) para una distribución exponencial es el inverso de la media\n",
    "rate = 1 / mean_arrival_time\n",
    "\n",
    "# La CDF de la distribución exponencial se da por P(X <= t) = 1 - e^(-lambda * t)\n",
    "probability_within_5_minutes = 1 - math.exp(-rate * time_within)\n",
    "\n",
    "print(f\"La probabilidad de que el próximo cliente llegue en los próximos 5 minutos es: {probability_within_5_minutes:.4f}\")"
   ]
  },
  {
   "cell_type": "markdown",
   "metadata": {},
   "source": [
    "If there is no customer for 15minutes, employees can that a 5minutes break.\n",
    "\n",
    "What is the probability an employee taking a break?"
   ]
  },
  {
   "cell_type": "code",
   "execution_count": 8,
   "metadata": {},
   "outputs": [
    {
     "name": "stdout",
     "output_type": "stream",
     "text": [
      "La probabilidad de que el empleado pueda tomar un descanso de 5 minutos es: 0.2231\n"
     ]
    }
   ],
   "source": [
    "# Parámetro de la distribución exponencial\n",
    "mean_arrival_time = 10  # en minutos\n",
    "time_no_customer = 15  # tiempo sin cliente\n",
    "\n",
    "# Creamos el objeto exponencial con la media dada\n",
    "expon_dist = expon(scale=mean_arrival_time)\n",
    "\n",
    "# Calculamos la probabilidad de que no haya clientes durante 15 minutos o más (P(X > 15))\n",
    "probability_break = 1 - expon_dist.cdf(time_no_customer)\n",
    "\n",
    "print(f\"La probabilidad de que el empleado pueda tomar un descanso de 5 minutos es: {probability_break:.4f}\")"
   ]
  },
  {
   "cell_type": "markdown",
   "metadata": {},
   "source": [
    "**Challenge 5**"
   ]
  },
  {
   "cell_type": "markdown",
   "metadata": {},
   "source": [
    "The weights of a certain species of birds follow a normal distribution with a mean weight of 150 grams and a standard deviation of 10 grams. \n",
    "\n",
    "- If we randomly select a bird, what is the probability that its weight is between 140 and 160 grams?"
   ]
  },
  {
   "cell_type": "code",
   "execution_count": 9,
   "metadata": {},
   "outputs": [
    {
     "name": "stdout",
     "output_type": "stream",
     "text": [
      "La probabilidad de que el peso esté entre 140 y 160 gramos es: 0.6827\n"
     ]
    }
   ],
   "source": [
    "#code here\n",
    "# Valores dados\n",
    "mean = 150  # media de los pesos en gramos\n",
    "std_dev = 10  # desviación estándar en gramos\n",
    "lower_bound = 140  # límite inferior del rango de peso\n",
    "upper_bound = 160  # límite superior del rango de peso\n",
    "\n",
    "# Calculamos la probabilidad acumulada para los límites inferior y superior\n",
    "probability_lower = stats.norm.cdf(lower_bound, mean, std_dev)\n",
    "probability_upper = stats.norm.cdf(upper_bound, mean, std_dev)\n",
    "\n",
    "# La probabilidad de que el peso esté entre 140 y 160 gramos\n",
    "probability_between = probability_upper - probability_lower\n",
    "\n",
    "print(f\"La probabilidad de que el peso esté entre 140 y 160 gramos es: {probability_between:.4f}\")"
   ]
  },
  {
   "cell_type": "markdown",
   "metadata": {},
   "source": [
    "**Challenge 6**"
   ]
  },
  {
   "cell_type": "markdown",
   "metadata": {},
   "source": [
    "If the lifetime (in hours) of a certain electronic component follows an exponential distribution with a mean lifetime of 50 hours, what is the probability that the component fails within the first 30 hours?"
   ]
  },
  {
   "cell_type": "code",
   "execution_count": 10,
   "metadata": {},
   "outputs": [
    {
     "name": "stdout",
     "output_type": "stream",
     "text": [
      "La probabilidad de que el componente falle dentro de las primeras 30 horas es: 0.4512\n"
     ]
    }
   ],
   "source": [
    "#code here\n",
    "mean_expo_lifetime = 50  \n",
    "fail_within = 30  \n",
    "\n",
    "# Parámetro de tasa (lambda)\n",
    "rate_param = 1 / mean_expo_lifetime\n",
    "\n",
    "# Calculamos la probabilidad de fallo dentro de las primeras 30 horas\n",
    "probability_failure = 1 - math.exp(-rate_param * fail_within)\n",
    "\n",
    "print(f\"La probabilidad de que el componente falle dentro de las primeras 30 horas es: {probability_failure:.4f}\")"
   ]
  }
 ],
 "metadata": {
  "kernelspec": {
   "display_name": "Python 3",
   "language": "python",
   "name": "python3"
  },
  "language_info": {
   "codemirror_mode": {
    "name": "ipython",
    "version": 3
   },
   "file_extension": ".py",
   "mimetype": "text/x-python",
   "name": "python",
   "nbconvert_exporter": "python",
   "pygments_lexer": "ipython3",
   "version": "3.12.4"
  }
 },
 "nbformat": 4,
 "nbformat_minor": 2
}
